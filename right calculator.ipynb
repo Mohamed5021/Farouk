{
 "cells": [
  {
   "cell_type": "code",
   "execution_count": 1,
   "id": "075c1784",
   "metadata": {},
   "outputs": [
    {
     "name": "stdout",
     "output_type": "stream",
     "text": [
      "enter first num : 10\n",
      "enter thec num : 5\n",
      "choise operator : *\n",
      "Sum : =  50.0\n",
      "type is: even \n"
     ]
    }
   ],
   "source": [
    "num1 = float(input(\"enter first num : \"))\n",
    "\n",
    "num2 = float(input(\"enter thec num : \"))\n",
    "operator = input(\"choise operator : \")\n",
    "if operator == \"+\":\n",
    "    Sum = num1+num2\n",
    "elif operator == \"-\":\n",
    "    Sum = num1-num2\n",
    "elif operator == \"/\":\n",
    "    Sum = num1/num2\n",
    "elif operator == \"*\":\n",
    "    Sum = num1*num2\n",
    "else:\n",
    "    Sum = \"Error\"\n",
    "print(\"Sum : = \",Sum)\n",
    "Sum = Sum    \n",
    "if Sum % 2 == 0:\n",
    "    print(\"type is: even \")\n",
    "else:\n",
    "    print(\"type is: odd\")"
   ]
  },
  {
   "cell_type": "code",
   "execution_count": null,
   "id": "c7c04b09",
   "metadata": {},
   "outputs": [],
   "source": []
  }
 ],
 "metadata": {
  "kernelspec": {
   "display_name": "Python 3 (ipykernel)",
   "language": "python",
   "name": "python3"
  },
  "language_info": {
   "codemirror_mode": {
    "name": "ipython",
    "version": 3
   },
   "file_extension": ".py",
   "mimetype": "text/x-python",
   "name": "python",
   "nbconvert_exporter": "python",
   "pygments_lexer": "ipython3",
   "version": "3.10.6"
  }
 },
 "nbformat": 4,
 "nbformat_minor": 5
}
