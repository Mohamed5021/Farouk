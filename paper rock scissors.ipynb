{
 "cells": [
  {
   "cell_type": "code",
   "execution_count": 1,
   "id": "2f10ce00",
   "metadata": {},
   "outputs": [
    {
     "name": "stdout",
     "output_type": "stream",
     "text": [
      "rock paper or scissors?: PAPER\n",
      "computer : paper\n",
      "player :  paper\n",
      "tie!!\n"
     ]
    }
   ],
   "source": [
    "import random\n",
    "choices = [\"rock\",\"paper\",\"scissors\"]\n",
    "computer = random.choice(choices)\n",
    "player = None\n",
    "while player not in choices:\n",
    "    player = input(\"rock paper or scissors?: \").lower()\n",
    "if computer == player:\n",
    "    print(\"computer :\",computer)\n",
    "    print(\"player : \",player)\n",
    "    print(\"tie!!\")\n",
    "elif player == \"rock\":\n",
    "    if computer == \"paper\":\n",
    "        print(\"computer :\",computer)\n",
    "        print(\"player : \",player)\n",
    "        print(\"you lose\")\n",
    "    if computer == \"scissors\":\n",
    "        print(\"computer :\",computer)\n",
    "        print(\"player : \",player)\n",
    "        print(\"you win\")\n",
    "elif player == \"paper\":\n",
    "    if computer == \"scissors\":\n",
    "        print(\"computer :\",computer)\n",
    "        print(\"player : \",player)\n",
    "        print(\"you lose\")\n",
    "    if computer == \"rock\":\n",
    "        print(\"computer :\",computer)\n",
    "        print(\"player : \",player)\n",
    "        print(\"you win\")        \n",
    "elif player == \"scissors\":\n",
    "    if computer == \"rock\":\n",
    "        print(\"computer :\",computer)\n",
    "        print(\"player : \",player)\n",
    "        print(\"you lose\")\n",
    "    if computer == \"paper\":\n",
    "        print(\"computer :\",computer)\n",
    "        print(\"player : \",player)\n",
    "        print(\"you win\")          "
   ]
  },
  {
   "cell_type": "code",
   "execution_count": null,
   "id": "9c039885",
   "metadata": {},
   "outputs": [],
   "source": []
  }
 ],
 "metadata": {
  "kernelspec": {
   "display_name": "Python 3 (ipykernel)",
   "language": "python",
   "name": "python3"
  },
  "language_info": {
   "codemirror_mode": {
    "name": "ipython",
    "version": 3
   },
   "file_extension": ".py",
   "mimetype": "text/x-python",
   "name": "python",
   "nbconvert_exporter": "python",
   "pygments_lexer": "ipython3",
   "version": "3.9.12"
  }
 },
 "nbformat": 4,
 "nbformat_minor": 5
}
